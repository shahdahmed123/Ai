{
 "cells": [
  {
   "cell_type": "code",
   "execution_count": 74,
   "id": "bb6fe2d3",
   "metadata": {},
   "outputs": [],
   "source": [
    "import numpy as np"
   ]
  },
  {
   "cell_type": "code",
   "execution_count": 75,
   "id": "eecd6319",
   "metadata": {},
   "outputs": [],
   "source": [
    "def init_pop(pop_size):\n",
    "    return np.random.randint(8, size=(pop_size,8))"
   ]
  },
  {
   "cell_type": "code",
   "execution_count": 76,
   "id": "74544c50",
   "metadata": {},
   "outputs": [
    {
     "name": "stdout",
     "output_type": "stream",
     "text": [
      "[[6 3 6 1 1 4 5 1]\n",
      " [1 2 3 3 0 5 1 2]\n",
      " [2 5 4 1 4 5 6 7]\n",
      " [0 3 2 3 0 1 4 5]]\n"
     ]
    }
   ],
   "source": [
    "initial_population = init_pop(4)\n",
    "print(initial_population)"
   ]
  },
  {
   "cell_type": "code",
   "execution_count": 77,
   "id": "f81fcf0c",
   "metadata": {},
   "outputs": [],
   "source": [
    "def calc_fitness(population):\n",
    "    fitness_vals=[]\n",
    "    for x in population:\n",
    "        penalty = 0\n",
    "        for i in range(8):\n",
    "            r=x[i]\n",
    "            for j in range(8):\n",
    "                if i==j:\n",
    "                     d = abs(i-j)\n",
    "                if x[j] in [r,r-d, r+d]:\n",
    "                    penalty += 1\n",
    "                    fitness_vals.append(penalty)\n",
    "        return -1*np.array(fitness_vals)\n",
    "                    \n",
    "                    "
   ]
  },
  {
   "cell_type": "code",
   "execution_count": 78,
   "id": "a2732bf5",
   "metadata": {},
   "outputs": [
    {
     "name": "stdout",
     "output_type": "stream",
     "text": [
      "[ -1  -2  -3  -4  -5  -6  -7  -8  -9 -10 -11 -12 -13 -14 -15 -16]\n"
     ]
    }
   ],
   "source": [
    "fitness_vals= calc_fitness(initial_population)\n",
    "print(fitness_vals)"
   ]
  },
  {
   "cell_type": "code",
   "execution_count": 84,
   "id": "ce875c17",
   "metadata": {},
   "outputs": [],
   "source": [
    "def selection(population, fitness_vals):\n",
    "    probs = fitness_vals.copy()\n",
    "    probs += abs(probs.min())+1\n",
    "    probs = probs/ probs.sum()\n",
    "    N = len(population)\n",
    "    indices = np.arange(N)\n",
    "    selected_indices= np.random.choice(indices,size=N, p=probs)\n",
    "    selected_population = population[selected_indices]\n",
    "    return selected_population\n"
   ]
  },
  {
   "cell_type": "code",
   "execution_count": 85,
   "id": "cc0481c0",
   "metadata": {},
   "outputs": [
    {
     "ename": "ValueError",
     "evalue": "'a' and 'p' must have same size",
     "output_type": "error",
     "traceback": [
      "\u001b[1;31m---------------------------------------------------------------------------\u001b[0m",
      "\u001b[1;31mValueError\u001b[0m                                Traceback (most recent call last)",
      "Input \u001b[1;32mIn [85]\u001b[0m, in \u001b[0;36m<cell line: 1>\u001b[1;34m()\u001b[0m\n\u001b[1;32m----> 1\u001b[0m selected_population\u001b[38;5;241m=\u001b[39m \u001b[43mselection\u001b[49m\u001b[43m(\u001b[49m\u001b[43minitial_population\u001b[49m\u001b[43m,\u001b[49m\u001b[43m \u001b[49m\u001b[43mfitness_vals\u001b[49m\u001b[43m)\u001b[49m\n\u001b[0;32m      2\u001b[0m \u001b[38;5;28mprint\u001b[39m(selected_population)\n",
      "Input \u001b[1;32mIn [84]\u001b[0m, in \u001b[0;36mselection\u001b[1;34m(population, fitness_vals)\u001b[0m\n\u001b[0;32m      5\u001b[0m N \u001b[38;5;241m=\u001b[39m \u001b[38;5;28mlen\u001b[39m(population)\n\u001b[0;32m      6\u001b[0m indices \u001b[38;5;241m=\u001b[39m np\u001b[38;5;241m.\u001b[39marange(N)\n\u001b[1;32m----> 7\u001b[0m selected_indices\u001b[38;5;241m=\u001b[39m \u001b[43mnp\u001b[49m\u001b[38;5;241;43m.\u001b[39;49m\u001b[43mrandom\u001b[49m\u001b[38;5;241;43m.\u001b[39;49m\u001b[43mchoice\u001b[49m\u001b[43m(\u001b[49m\u001b[43mindices\u001b[49m\u001b[43m,\u001b[49m\u001b[43msize\u001b[49m\u001b[38;5;241;43m=\u001b[39;49m\u001b[43mN\u001b[49m\u001b[43m,\u001b[49m\u001b[43m \u001b[49m\u001b[43mp\u001b[49m\u001b[38;5;241;43m=\u001b[39;49m\u001b[43mprobs\u001b[49m\u001b[43m)\u001b[49m\n\u001b[0;32m      8\u001b[0m selected_population \u001b[38;5;241m=\u001b[39m population[selected_indices]\n\u001b[0;32m      9\u001b[0m \u001b[38;5;28;01mreturn\u001b[39;00m selected_population\n",
      "File \u001b[1;32mmtrand.pyx:932\u001b[0m, in \u001b[0;36mnumpy.random.mtrand.RandomState.choice\u001b[1;34m()\u001b[0m\n",
      "\u001b[1;31mValueError\u001b[0m: 'a' and 'p' must have same size"
     ]
    }
   ],
   "source": [
    "selected_population= selection(initial_population, fitness_vals)\n",
    "print(selected_population)"
   ]
  },
  {
   "cell_type": "code",
   "execution_count": 98,
   "id": "3f46257e",
   "metadata": {},
   "outputs": [
    {
     "name": "stdout",
     "output_type": "stream",
     "text": [
      "<class 'list'>\n",
      "[[0, 1, 0, 1, 1, 0], [1, 0, 1, 0, 0, 0], [1, 1, 1, 0, 0, 0], [1, 1, 1, 0, 0, 0]]\n"
     ]
    }
   ],
   "source": [
    "\n",
    "#initialize population\n",
    "import random\n",
    "best=-100000\n",
    "populations =([[random.randint(0,1) for x in range(6)] for i in range(4)])\n",
    "print(type(populations))\n",
    "parents=[]\n",
    "new_populations = []\n",
    "print(populations)"
   ]
  },
  {
   "cell_type": "code",
   "execution_count": 99,
   "id": "26923a50",
   "metadata": {},
   "outputs": [
    {
     "name": "stdout",
     "output_type": "stream",
     "text": [
      "22\n",
      "-8\n",
      "-24\n",
      "-24\n",
      "[-479, -59, -571, -571]\n"
     ]
    }
   ],
   "source": [
    "#fitness score calculation ............\n",
    "def fitness_score() :\n",
    "    global populations,best\n",
    "    fit_value = []\n",
    "    fit_score=[]\n",
    "    for i in range(4) :\n",
    "        chromosome_value=0\n",
    "        \n",
    "        for j in range(5,0,-1) :\n",
    "            chromosome_value += populations[i][j]*(2**(5-j))\n",
    "        chromosome_value = -1*chromosome_value if populations[i][0]==1 else chromosome_value\n",
    "        print(chromosome_value)\n",
    "        fit_value.append(-(chromosome_value**2) + 5 )\n",
    "    print(fit_value)\n",
    "    fit_value, populations = zip(*sorted(zip(fit_value, populations) , reverse = True))\n",
    "    best= fit_value[0]\n",
    "    \n",
    "fitness_score()"
   ]
  },
  {
   "cell_type": "code",
   "execution_count": 100,
   "id": "529826c1",
   "metadata": {},
   "outputs": [
    {
     "name": "stdout",
     "output_type": "stream",
     "text": [
      "<class 'tuple'>\n",
      "([1, 0, 1, 0, 0, 0], [0, 1, 0, 1, 1, 0])\n"
     ]
    }
   ],
   "source": [
    "def selectparent():\n",
    "    global parents\n",
    "    #global populations , parents\n",
    "    parents=populations[0:2]\n",
    "    print(type(parents))\n",
    "    print(parents)\n",
    "selectparent()\n"
   ]
  },
  {
   "cell_type": "code",
   "execution_count": 101,
   "id": "fe5f42e7",
   "metadata": {},
   "outputs": [],
   "source": [
    "def crossover() :\n",
    "    global parents\n",
    "    \n",
    "    cross_point = random.randint(0,5)\n",
    "    parents=parents + tuple([(parents[0][0:cross_point +1] +parents[1][cross_point+1:6])])\n",
    "    parents =parents+ tuple([(parents[1][0:cross_point +1] +parents[0][cross_point+1:6])])\n",
    "    \n",
    "    print(parents)"
   ]
  },
  {
   "cell_type": "code",
   "execution_count": 102,
   "id": "70fda40e",
   "metadata": {},
   "outputs": [],
   "source": [
    "def mutation() :\n",
    "    global populations, parents\n",
    "    mute = random.randint(0,49)\n",
    "    if mute == 20 :\n",
    "        x=random.randint(0,3)\n",
    "        y = random.randint(0,5)\n",
    "        parents[x][y] = 1-parents[x][y]\n",
    "    populations = parents\n",
    "    print(populations)"
   ]
  },
  {
   "cell_type": "code",
   "execution_count": 106,
   "id": "cfa51dd4",
   "metadata": {},
   "outputs": [
    {
     "name": "stdout",
     "output_type": "stream",
     "text": [
      "-6\n",
      "6\n",
      "-6\n",
      "-6\n",
      "[-31, -31, -31, -31]\n",
      "<class 'tuple'>\n",
      "([1, 0, 0, 1, 1, 0], [1, 0, 0, 1, 1, 0])\n",
      "([1, 0, 0, 1, 1, 0], [1, 0, 0, 1, 1, 0], [1, 0, 0, 1, 1, 0], [1, 0, 0, 1, 1, 0])\n",
      "([1, 0, 0, 1, 1, 0], [1, 0, 0, 1, 1, 0], [1, 0, 0, 1, 1, 0], [1, 0, 0, 0, 1, 0])\n",
      "-6\n",
      "-6\n",
      "-6\n",
      "-2\n",
      "[-31, -31, -31, 1]\n",
      "<class 'tuple'>\n",
      "([1, 0, 0, 0, 1, 0], [1, 0, 0, 1, 1, 0])\n",
      "([1, 0, 0, 0, 1, 0], [1, 0, 0, 1, 1, 0], [1, 0, 0, 1, 1, 0], [1, 0, 0, 0, 1, 0])\n",
      "([1, 0, 0, 0, 1, 0], [1, 0, 0, 1, 1, 0], [1, 0, 0, 1, 1, 0], [1, 0, 0, 0, 1, 0])\n",
      "-2\n",
      "-6\n",
      "-6\n",
      "-2\n",
      "[1, -31, -31, 1]\n",
      "<class 'tuple'>\n",
      "([1, 0, 0, 0, 1, 0], [1, 0, 0, 0, 1, 0])\n",
      "([1, 0, 0, 0, 1, 0], [1, 0, 0, 0, 1, 0], [1, 0, 0, 0, 1, 0], [1, 0, 0, 0, 1, 0])\n",
      "([1, 0, 0, 0, 1, 0], [1, 0, 0, 0, 1, 0], [1, 0, 0, 0, 1, 0], [1, 0, 0, 0, 1, 0])\n",
      "-2\n",
      "-2\n",
      "-2\n",
      "-2\n",
      "[1, 1, 1, 1]\n",
      "<class 'tuple'>\n",
      "([1, 0, 0, 0, 1, 0], [1, 0, 0, 0, 1, 0])\n",
      "([1, 0, 0, 0, 1, 0], [1, 0, 0, 0, 1, 0], [1, 0, 0, 0, 1, 0], [1, 0, 0, 0, 1, 0])\n",
      "([1, 0, 0, 0, 1, 0], [1, 0, 0, 0, 1, 0], [1, 0, 0, 0, 1, 0], [1, 0, 0, 0, 1, 0])\n",
      "-2\n",
      "-2\n",
      "-2\n",
      "-2\n",
      "[1, 1, 1, 1]\n",
      "<class 'tuple'>\n",
      "([1, 0, 0, 0, 1, 0], [1, 0, 0, 0, 1, 0])\n",
      "([1, 0, 0, 0, 1, 0], [1, 0, 0, 0, 1, 0], [1, 0, 0, 0, 1, 0], [1, 0, 0, 0, 1, 0])\n",
      "([1, 0, 0, 0, 1, 0], [1, 0, 0, 0, 1, 0], [1, 0, 0, 0, 1, 0], [1, 0, 0, 0, 1, 0])\n",
      "best score :\n",
      "1\n",
      "sequence........\n",
      "[1, 0, 0, 0, 1, 0]\n"
     ]
    }
   ],
   "source": [
    "for i in range(5) :\n",
    "    fitness_score()\n",
    "    selectparent() \n",
    "    crossover()\n",
    "    mutation()\n",
    "print(\"best score :\")\n",
    "print(best)\n",
    "print(\"sequence........\")\n",
    "print(populations[0])\n",
    "    "
   ]
  },
  {
   "cell_type": "code",
   "execution_count": null,
   "id": "5965a49c",
   "metadata": {},
   "outputs": [],
   "source": []
  }
 ],
 "metadata": {
  "kernelspec": {
   "display_name": "Python 3 (ipykernel)",
   "language": "python",
   "name": "python3"
  },
  "language_info": {
   "codemirror_mode": {
    "name": "ipython",
    "version": 3
   },
   "file_extension": ".py",
   "mimetype": "text/x-python",
   "name": "python",
   "nbconvert_exporter": "python",
   "pygments_lexer": "ipython3",
   "version": "3.9.12"
  }
 },
 "nbformat": 4,
 "nbformat_minor": 5
}
